{
 "cells": [
  {
   "cell_type": "code",
   "execution_count": 56,
   "metadata": {},
   "outputs": [],
   "source": [
    "from pandas_datareader import data\n",
    "\n",
    "def readFile(stockbroker):\n",
    "    shares = []\n",
    "    weight = []\n",
    "    with open(\"../januaryData/\"+stockbroker+\".txt\") as prtf:\n",
    "        shares = prtf.readline().split(\",\")\n",
    "        shares[len(shares)-1] = shares[len(shares)-1].strip()\n",
    "        weight = prtf.readline().split(\",\")\n",
    "        weight[len(weight)-1] = weight[len(weight)-1].strip()\n",
    "    return shares, weight\n",
    "\n",
    "def marko1():\n",
    "    shares = []\n",
    "    monthReturn = []\n",
    "    weight = []\n",
    "    shares, weight = readFile(\"necton\")\n",
    "    start_date = '2019-12-03'\n",
    "    end_date = '2020-03-05'\n",
    "\n",
    "    returnArr = []\n",
    "    df = data.DataReader(shares, 'yahoo', start_date, end_date)\n",
    "    \n",
    "    print(df.head())"
   ]
  },
  {
   "cell_type": "code",
   "execution_count": 32,
   "metadata": {},
   "outputs": [],
   "source": [
    "import pandas as pd\n",
    "import numpy as np"
   ]
  },
  {
   "cell_type": "code",
   "execution_count": 57,
   "metadata": {},
   "outputs": [
    {
     "name": "stdout",
     "output_type": "stream",
     "text": [
      "Attributes   Adj Close                                                  \\\n",
      "Symbols      GGRC11.SA   HABT11.SA   HFOF11.SA   UBSR11.SA   THRA11.SA   \n",
      "Date                                                                     \n",
      "2019-12-03  139.399994  110.930000  109.870003  106.209999  148.500000   \n",
      "2019-12-04  140.130005  112.989998  110.529999  107.730003  147.500000   \n",
      "2019-12-05  141.000000  112.000000  113.489998  107.500000  147.800003   \n",
      "2019-12-06  143.000000  112.000000  114.739998  106.910004  152.000000   \n",
      "2019-12-09  145.000000  113.000000  114.500000  105.599998  150.000000   \n",
      "\n",
      "Attributes                                           Close              ...  \\\n",
      "Symbols      TGAR11.SA   HGBS11.SA   HGPO11.SA   GGRC11.SA   HABT11.SA  ...   \n",
      "Date                                                                    ...   \n",
      "2019-12-03  121.220001  285.899994  198.699997  139.399994  110.930000  ...   \n",
      "2019-12-04  121.220001  285.130005  200.100006  140.130005  112.989998  ...   \n",
      "2019-12-05  121.220001  284.899994  200.100006  141.000000  112.000000  ...   \n",
      "2019-12-06  121.220001  287.100006  201.500000  143.000000  112.000000  ...   \n",
      "2019-12-09  121.220001  288.000000  203.910004  145.000000  113.000000  ...   \n",
      "\n",
      "Attributes        Open                Volume                                \\\n",
      "Symbols      HGBS11.SA   HGPO11.SA GGRC11.SA HABT11.SA HFOF11.SA UBSR11.SA   \n",
      "Date                                                                         \n",
      "2019-12-03  286.000000  196.059998   61438.0   12659.0   45059.0   19624.0   \n",
      "2019-12-04  285.899994  198.990005   26223.0    7408.0   30790.0   15396.0   \n",
      "2019-12-05  285.480011  201.449997   35230.0    5607.0   22834.0   13017.0   \n",
      "2019-12-06  285.010010  200.500000   30945.0    6122.0   47129.0   15349.0   \n",
      "2019-12-09  286.500000  201.500000   69763.0    8518.0   25619.0   27918.0   \n",
      "\n",
      "Attributes                                          \n",
      "Symbols    THRA11.SA TGAR11.SA HGBS11.SA HGPO11.SA  \n",
      "Date                                                \n",
      "2019-12-03    3846.0       0.0   17213.0    1743.0  \n",
      "2019-12-04   19209.0       0.0   21797.0    4529.0  \n",
      "2019-12-05   28650.0       0.0   29368.0    3223.0  \n",
      "2019-12-06   15867.0       0.0   22814.0    1195.0  \n",
      "2019-12-09     798.0       0.0   33602.0    1823.0  \n",
      "\n",
      "[5 rows x 48 columns]\n"
     ]
    }
   ],
   "source": [
    "shares = []\n",
    "monthReturn = []\n",
    "weight = []\n",
    "shares, weight = readFile(\"necton\")\n",
    "start_date = '2019-11-03'\n",
    "end_date = '2020-02-05'\n",
    "\n",
    "returnArr = []\n",
    "df = data.DataReader(shares, 'yahoo', start_date, end_date)\n",
    "    \n",
    "print(df.head())"
   ]
  },
  {
   "cell_type": "code",
   "execution_count": 58,
   "metadata": {},
   "outputs": [],
   "source": [
    "df.reset_index(inplace=True)"
   ]
  },
  {
   "cell_type": "code",
   "execution_count": 59,
   "metadata": {},
   "outputs": [
    {
     "data": {
      "text/plain": [
       "MultiIndex([(     'Date',          ''),\n",
       "            ('Adj Close', 'GGRC11.SA'),\n",
       "            ('Adj Close', 'HABT11.SA'),\n",
       "            ('Adj Close', 'HFOF11.SA'),\n",
       "            ('Adj Close', 'UBSR11.SA'),\n",
       "            ('Adj Close', 'THRA11.SA'),\n",
       "            ('Adj Close', 'TGAR11.SA'),\n",
       "            ('Adj Close', 'HGBS11.SA'),\n",
       "            ('Adj Close', 'HGPO11.SA'),\n",
       "            (    'Close', 'GGRC11.SA'),\n",
       "            (    'Close', 'HABT11.SA'),\n",
       "            (    'Close', 'HFOF11.SA'),\n",
       "            (    'Close', 'UBSR11.SA'),\n",
       "            (    'Close', 'THRA11.SA'),\n",
       "            (    'Close', 'TGAR11.SA'),\n",
       "            (    'Close', 'HGBS11.SA'),\n",
       "            (    'Close', 'HGPO11.SA'),\n",
       "            (     'High', 'GGRC11.SA'),\n",
       "            (     'High', 'HABT11.SA'),\n",
       "            (     'High', 'HFOF11.SA'),\n",
       "            (     'High', 'UBSR11.SA'),\n",
       "            (     'High', 'THRA11.SA'),\n",
       "            (     'High', 'TGAR11.SA'),\n",
       "            (     'High', 'HGBS11.SA'),\n",
       "            (     'High', 'HGPO11.SA'),\n",
       "            (      'Low', 'GGRC11.SA'),\n",
       "            (      'Low', 'HABT11.SA'),\n",
       "            (      'Low', 'HFOF11.SA'),\n",
       "            (      'Low', 'UBSR11.SA'),\n",
       "            (      'Low', 'THRA11.SA'),\n",
       "            (      'Low', 'TGAR11.SA'),\n",
       "            (      'Low', 'HGBS11.SA'),\n",
       "            (      'Low', 'HGPO11.SA'),\n",
       "            (     'Open', 'GGRC11.SA'),\n",
       "            (     'Open', 'HABT11.SA'),\n",
       "            (     'Open', 'HFOF11.SA'),\n",
       "            (     'Open', 'UBSR11.SA'),\n",
       "            (     'Open', 'THRA11.SA'),\n",
       "            (     'Open', 'TGAR11.SA'),\n",
       "            (     'Open', 'HGBS11.SA'),\n",
       "            (     'Open', 'HGPO11.SA'),\n",
       "            (   'Volume', 'GGRC11.SA'),\n",
       "            (   'Volume', 'HABT11.SA'),\n",
       "            (   'Volume', 'HFOF11.SA'),\n",
       "            (   'Volume', 'UBSR11.SA'),\n",
       "            (   'Volume', 'THRA11.SA'),\n",
       "            (   'Volume', 'TGAR11.SA'),\n",
       "            (   'Volume', 'HGBS11.SA'),\n",
       "            (   'Volume', 'HGPO11.SA')],\n",
       "           names=['Attributes', 'Symbols'])"
      ]
     },
     "execution_count": 59,
     "metadata": {},
     "output_type": "execute_result"
    }
   ],
   "source": [
    "df.columns"
   ]
  },
  {
   "cell_type": "code",
   "execution_count": 82,
   "metadata": {},
   "outputs": [
    {
     "name": "stderr",
     "output_type": "stream",
     "text": [
      "/home/vilela/.local/lib/python3.7/site-packages/ipykernel_launcher.py:1: SettingWithCopyWarning: \n",
      "A value is trying to be set on a copy of a slice from a DataFrame\n",
      "\n",
      "See the caveats in the documentation: http://pandas.pydata.org/pandas-docs/stable/user_guide/indexing.html#returning-a-view-versus-a-copy\n",
      "  \"\"\"Entry point for launching an IPython kernel.\n"
     ]
    }
   ],
   "source": [
    "df[(\"Open\", \"TGAR11.SA\")][df[(\"Date\",\"\")] == \"2020-03-03\"] = 131.80"
   ]
  },
  {
   "cell_type": "code",
   "execution_count": 61,
   "metadata": {},
   "outputs": [],
   "source": [
    "shDf = pd.DataFrame(shares,columns=[\"share\"])\n",
    "shDf.reset_index(inplace=True)"
   ]
  },
  {
   "cell_type": "code",
   "execution_count": 62,
   "metadata": {},
   "outputs": [],
   "source": [
    "\n"
   ]
  },
  {
   "cell_type": "code",
   "execution_count": 93,
   "metadata": {},
   "outputs": [
    {
     "name": "stderr",
     "output_type": "stream",
     "text": [
      "/home/vilela/.local/lib/python3.7/site-packages/ipykernel_launcher.py:15: SettingWithCopyWarning: \n",
      "A value is trying to be set on a copy of a slice from a DataFrame\n",
      "\n",
      "See the caveats in the documentation: http://pandas.pydata.org/pandas-docs/stable/user_guide/indexing.html#returning-a-view-versus-a-copy\n",
      "  from ipykernel import kernelapp as app\n",
      "/home/vilela/.local/lib/python3.7/site-packages/ipykernel_launcher.py:16: SettingWithCopyWarning: \n",
      "A value is trying to be set on a copy of a slice from a DataFrame\n",
      "\n",
      "See the caveats in the documentation: http://pandas.pydata.org/pandas-docs/stable/user_guide/indexing.html#returning-a-view-versus-a-copy\n",
      "  app.launch_new_instance()\n",
      "/home/vilela/.local/lib/python3.7/site-packages/ipykernel_launcher.py:17: SettingWithCopyWarning: \n",
      "A value is trying to be set on a copy of a slice from a DataFrame\n",
      "\n",
      "See the caveats in the documentation: http://pandas.pydata.org/pandas-docs/stable/user_guide/indexing.html#returning-a-view-versus-a-copy\n",
      "/home/vilela/.local/lib/python3.7/site-packages/ipykernel_launcher.py:18: SettingWithCopyWarning: \n",
      "A value is trying to be set on a copy of a slice from a DataFrame\n",
      "\n",
      "See the caveats in the documentation: http://pandas.pydata.org/pandas-docs/stable/user_guide/indexing.html#returning-a-view-versus-a-copy\n",
      "/home/vilela/.local/lib/python3.7/site-packages/ipykernel_launcher.py:19: SettingWithCopyWarning: \n",
      "A value is trying to be set on a copy of a slice from a DataFrame\n",
      "\n",
      "See the caveats in the documentation: http://pandas.pydata.org/pandas-docs/stable/user_guide/indexing.html#returning-a-view-versus-a-copy\n",
      "/home/vilela/.local/lib/python3.7/site-packages/ipykernel_launcher.py:20: SettingWithCopyWarning: \n",
      "A value is trying to be set on a copy of a slice from a DataFrame\n",
      "\n",
      "See the caveats in the documentation: http://pandas.pydata.org/pandas-docs/stable/user_guide/indexing.html#returning-a-view-versus-a-copy\n",
      "/home/vilela/.local/lib/python3.7/site-packages/ipykernel_launcher.py:15: SettingWithCopyWarning: \n",
      "A value is trying to be set on a copy of a slice from a DataFrame\n",
      "\n",
      "See the caveats in the documentation: http://pandas.pydata.org/pandas-docs/stable/user_guide/indexing.html#returning-a-view-versus-a-copy\n",
      "  from ipykernel import kernelapp as app\n",
      "/home/vilela/.local/lib/python3.7/site-packages/ipykernel_launcher.py:16: SettingWithCopyWarning: \n",
      "A value is trying to be set on a copy of a slice from a DataFrame\n",
      "\n",
      "See the caveats in the documentation: http://pandas.pydata.org/pandas-docs/stable/user_guide/indexing.html#returning-a-view-versus-a-copy\n",
      "  app.launch_new_instance()\n",
      "/home/vilela/.local/lib/python3.7/site-packages/ipykernel_launcher.py:17: SettingWithCopyWarning: \n",
      "A value is trying to be set on a copy of a slice from a DataFrame\n",
      "\n",
      "See the caveats in the documentation: http://pandas.pydata.org/pandas-docs/stable/user_guide/indexing.html#returning-a-view-versus-a-copy\n",
      "/home/vilela/.local/lib/python3.7/site-packages/ipykernel_launcher.py:18: SettingWithCopyWarning: \n",
      "A value is trying to be set on a copy of a slice from a DataFrame\n",
      "\n",
      "See the caveats in the documentation: http://pandas.pydata.org/pandas-docs/stable/user_guide/indexing.html#returning-a-view-versus-a-copy\n",
      "/home/vilela/.local/lib/python3.7/site-packages/ipykernel_launcher.py:19: SettingWithCopyWarning: \n",
      "A value is trying to be set on a copy of a slice from a DataFrame\n",
      "\n",
      "See the caveats in the documentation: http://pandas.pydata.org/pandas-docs/stable/user_guide/indexing.html#returning-a-view-versus-a-copy\n",
      "/home/vilela/.local/lib/python3.7/site-packages/ipykernel_launcher.py:20: SettingWithCopyWarning: \n",
      "A value is trying to be set on a copy of a slice from a DataFrame\n",
      "\n",
      "See the caveats in the documentation: http://pandas.pydata.org/pandas-docs/stable/user_guide/indexing.html#returning-a-view-versus-a-copy\n"
     ]
    }
   ],
   "source": [
    "shDf[\"m1R\"] = 0\n",
    "shDf[\"m1P\"] = 0\n",
    "shDf[\"m2R\"] = 0\n",
    "shDf[\"m2P\"] = 0\n",
    "shDf[\"m3R\"] = 0\n",
    "shDf[\"m3P\"] = 0\n",
    "for share in shares:\n",
    "    cl1 = df[('Close', share)][df[(\"Date\",\"\")] == \"2020-01-03\"]\n",
    "    op1 = df[('Open', share)][df[(\"Date\",\"\")] == \"2019-12-03\"]\n",
    "    cl2 = df[('Close', share)][df[(\"Date\",\"\")] == \"2020-02-05\"]\n",
    "    op2 = df[('Open', share)][df[(\"Date\",\"\")] == \"2020-01-03\"]\n",
    "    cl3 = df[('Close', share)][df[(\"Date\",\"\")] == \"2020-02-05\"]\n",
    "    op3 = df[('Open', share)][df[(\"Date\",\"\")] == \"2020-03-03\"]\n",
    "    #print(op2.iloc[0])\n",
    "    shDf[\"m1R\"][shDf[\"share\"] == share] = cl1.iloc[0] - op1.iloc[0]\n",
    "    shDf[\"m1P\"][shDf[\"share\"] == share] = (cl1.iloc[0] - op1.iloc[0]) / df[('Open', share)][df[(\"Date\",\"\")] == \"2019-12-03\"].iloc[0]\n",
    "    shDf[\"m2R\"][shDf[\"share\"] == share] = (cl2.iloc[0] - op2.iloc[0])\n",
    "    shDf[\"m2P\"][shDf[\"share\"] == share] = (cl2.iloc[0] - op2.iloc[0]) / df[('Open', share)][df[(\"Date\",\"\")] == \"2020-01-03\"].iloc[0]\n",
    "    shDf[\"m3R\"][shDf[\"share\"] == share] = (cl3.iloc[0] - op3.iloc[0])\n",
    "    shDf[\"m3P\"][shDf[\"share\"] == share] = (cl3.iloc[0] - op3.iloc[0]) / df[('Open', share)][df[(\"Date\",\"\")] == \"2020-03-03\"].iloc[0]\n",
    "  "
   ]
  },
  {
   "cell_type": "code",
   "execution_count": 94,
   "metadata": {},
   "outputs": [],
   "source": [
    "shDf[\"m1E\"] = shDf[\"m1P\"] - shDf[\"m1P\"].sum()\n",
    "shDf[\"m2E\"] = shDf[\"m2P\"] - shDf[\"m2P\"].sum()\n",
    "shDf[\"m3E\"] = shDf[\"m3P\"] - shDf[\"m3P\"].sum()\n",
    "shDf[\"m1EQ\"] = shDf[\"m1E\"] **2\n",
    "shDf[\"m2EQ\"] = shDf[\"m2E\"] **2\n",
    "shDf[\"m3EQ\"] = shDf[\"m3E\"] **2\n"
   ]
  },
  {
   "cell_type": "code",
   "execution_count": 99,
   "metadata": {},
   "outputs": [
    {
     "data": {
      "text/plain": [
       "0.6560884761146883"
      ]
     },
     "execution_count": 99,
     "metadata": {},
     "output_type": "execute_result"
    }
   ],
   "source": [
    "shDf[\"m1P\"].sum()"
   ]
  },
  {
   "cell_type": "code",
   "execution_count": null,
   "metadata": {},
   "outputs": [],
   "source": []
  }
 ],
 "metadata": {
  "kernelspec": {
   "display_name": "Python 3",
   "language": "python",
   "name": "python3"
  },
  "language_info": {
   "codemirror_mode": {
    "name": "ipython",
    "version": 3
   },
   "file_extension": ".py",
   "mimetype": "text/x-python",
   "name": "python",
   "nbconvert_exporter": "python",
   "pygments_lexer": "ipython3",
   "version": "3.7.5"
  }
 },
 "nbformat": 4,
 "nbformat_minor": 2
}
